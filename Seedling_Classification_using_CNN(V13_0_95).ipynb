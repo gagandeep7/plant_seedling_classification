{
  "nbformat": 4,
  "nbformat_minor": 0,
  "metadata": {
    "kernelspec": {
      "name": "python3",
      "display_name": "Python 3"
    },
    "language_info": {
      "codemirror_mode": {
        "name": "ipython",
        "version": 3
      },
      "file_extension": ".py",
      "mimetype": "text/x-python",
      "name": "python",
      "nbconvert_exporter": "python",
      "pygments_lexer": "ipython3",
      "version": "3.7.0"
    },
    "colab": {
      "name": "Seedling Classification using CNN(V13 - 0.95).ipynb",
      "provenance": [],
      "collapsed_sections": [],
      "toc_visible": true
    },
    "accelerator": "GPU"
  },
  "cells": [
    {
      "cell_type": "markdown",
      "metadata": {
        "_cell_guid": "b1076dfc-b9ad-4769-8c92-a6c4dae69d19",
        "_uuid": "8f2839f25d086af736a60e9eeb907d3b93b6e0e5",
        "collapsed": true,
        "id": "29RVFnzXtpAH",
        "colab_type": "text"
      },
      "source": [
        "# Plant Seedling Classification using Convolutional Neural Networks\n",
        "This dataset consists of a training set and a testing set of images of plant seedlings at various growth stages. Each image has its own unique ID. The dataset has 12 main plant species which we need to classify the testing set into. \n",
        "For this task we will need to process and clean the data using image processing Then we will have to build a model and evaluate it.\n",
        "Let's get started! "
      ]
    },
    {
      "cell_type": "code",
      "metadata": {
        "id": "ZbrD_ki95HqA",
        "colab_type": "code",
        "outputId": "728b082d-6fca-4b9d-efe7-948f971639db",
        "colab": {
          "base_uri": "https://localhost:8080/",
          "height": 108
        }
      },
      "source": [
        "!pip install easycolab\n",
        "import easycolab as ec\n",
        "ec.mount()"
      ],
      "execution_count": 0,
      "outputs": [
        {
          "output_type": "stream",
          "text": [
            "Requirement already satisfied: easycolab in /usr/local/lib/python3.6/dist-packages (0.1b29)\n",
            "Drive already mounted at /content/gdrive; to attempt to forcibly remount, call drive.mount(\"/content/gdrive\", force_remount=True).\n",
            "Opening directory /content/gdrive/My Drive/\n",
            "Done!\n"
          ],
          "name": "stdout"
        }
      ]
    },
    {
      "cell_type": "code",
      "metadata": {
        "id": "Oxgxs9A8Rmgt",
        "colab_type": "code",
        "outputId": "4be49a31-91ae-4469-fb15-1d053bdf01b7",
        "colab": {
          "base_uri": "https://localhost:8080/",
          "height": 81
        }
      },
      "source": [
        "import tensorflow "
      ],
      "execution_count": 0,
      "outputs": [
        {
          "output_type": "display_data",
          "data": {
            "text/html": [
              "<p style=\"color: red;\">\n",
              "The default version of TensorFlow in Colab will soon switch to TensorFlow 2.x.<br>\n",
              "We recommend you <a href=\"https://www.tensorflow.org/guide/migrate\" target=\"_blank\">upgrade</a> now \n",
              "or ensure your notebook will continue to use TensorFlow 1.x via the <code>%tensorflow_version 1.x</code> magic:\n",
              "<a href=\"https://colab.research.google.com/notebooks/tensorflow_version.ipynb\" target=\"_blank\">more info</a>.</p>\n"
            ],
            "text/plain": [
              "<IPython.core.display.HTML object>"
            ]
          },
          "metadata": {
            "tags": []
          }
        }
      ]
    },
    {
      "cell_type": "markdown",
      "metadata": {
        "_uuid": "afd2c0f8328eb1633553c37a415e044a4dbd1422",
        "id": "vS1a0_MatpAK",
        "colab_type": "text"
      },
      "source": [
        "**(1). Importing all the necessary modules:**"
      ]
    },
    {
      "cell_type": "code",
      "metadata": {
        "_cell_guid": "79c7e3d0-c299-4dcb-8224-4455121ee9b0",
        "_uuid": "d629ff2d2480ee46fbb7e2d37f6b5fab8052498a",
        "colab_type": "code",
        "id": "ASQcBU-7VSnr",
        "colab": {}
      },
      "source": [
        "import numpy as np # MATRIX OPERATIONS\n",
        "import pandas as pd # EFFICIENT DATA STRUCfTURES\n",
        "import matplotlib.pyplot as plt # GRAPHING AND VISUALIZATIONS\n",
        "import math # MATHEMATICAL OPERATIONS\n",
        "import cv2 # IMAGE PROCESSING - OPENCV\n",
        "from glob import glob # FILE OPERATIONS\n",
        "import itertools\n",
        "\n",
        "# KERAS AND SKLEARN MODULES\n",
        "from tensorflow.keras.models import Sequential\n",
        "from tensorflow.keras.layers import Dense\n",
        "from tensorflow.keras.layers import Dropout\n",
        "from tensorflow.keras.layers import Flatten\n",
        "from tensorflow.keras.layers import Conv2D\n",
        "from tensorflow.keras.layers import MaxPooling2D\n",
        "from tensorflow.keras.layers import BatchNormalization\n",
        "from tensorflow.keras.callbacks import ModelCheckpoint\n",
        "from sklearn.model_selection import train_test_split\n",
        "\n",
        "# GLOBAL VARIABLES\n",
        "scale = 64\n",
        "seed = 7"
      ],
      "execution_count": 0,
      "outputs": []
    },
    {
      "cell_type": "markdown",
      "metadata": {
        "_uuid": "56d270d77a293192d564d774eeb3b8235415593e",
        "id": "3piW42q3tpAR",
        "colab_type": "text"
      },
      "source": [
        "**(2). Getting the data and resizing the images:**"
      ]
    },
    {
      "cell_type": "code",
      "metadata": {
        "_uuid": "1bc9fe88c8716f1e4a0344b3c3b58b46b3ce1810",
        "id": "rcZaDfeOtpAS",
        "colab_type": "code",
        "colab": {}
      },
      "source": [
        "# path_to_images = '../input/plant-seedlings-classification/train/*/*.png'\n",
        "# images = glob(path_to_images)\n",
        "# trainingset = []\n",
        "# traininglabels = []\n",
        "# num = len(images)\n",
        "# count = 1\n",
        "# #READING IMAGES AND RESIZING THEM\n",
        "# for i in images:\n",
        "#     print(str(count)+'/'+str(num),end='\\r')\n",
        "#     trainingset.append(cv2.resize(cv2.imread(i),(scale,scale)))\n",
        "#     traininglabels.append(i.split('/')[-2])\n",
        "#     count=count+1\n",
        "#     trainingset = np.asarray(trainingset)\n",
        "#     traininglabels = pd.DataFrame(traininglabels)"
      ],
      "execution_count": 0,
      "outputs": []
    },
    {
      "cell_type": "code",
      "metadata": {
        "id": "8Ywm5wpitpAX",
        "colab_type": "code",
        "outputId": "acfff80e-dcaf-4f31-943e-0d658170e7cb",
        "colab": {
          "base_uri": "https://localhost:8080/",
          "height": 35
        }
      },
      "source": [
        "# \"/input/plant-seedlings-classification/train/Maize/a5c2eec2d.png\".split('/')[-2]"
      ],
      "execution_count": 0,
      "outputs": [
        {
          "output_type": "execute_result",
          "data": {
            "text/plain": [
              "'Maize'"
            ]
          },
          "metadata": {
            "tags": []
          },
          "execution_count": 5
        }
      ]
    },
    {
      "cell_type": "code",
      "metadata": {
        "id": "dF_i1Xw1_9j8",
        "colab_type": "code",
        "outputId": "64e63fd6-81fb-4f3c-ee6b-58b1af34169d",
        "colab": {
          "base_uri": "https://localhost:8080/",
          "height": 35
        }
      },
      "source": [
        "cd plant seeding"
      ],
      "execution_count": 0,
      "outputs": [
        {
          "output_type": "stream",
          "text": [
            "/content/gdrive/My Drive/plant seeding\n"
          ],
          "name": "stdout"
        }
      ]
    },
    {
      "cell_type": "code",
      "metadata": {
        "id": "O0IUaaVztpAj",
        "colab_type": "code",
        "outputId": "fb4aa232-74b3-4fbc-fa5f-69fe68590b07",
        "colab": {
          "base_uri": "https://localhost:8080/",
          "height": 35
        }
      },
      "source": [
        "trainingset=np.load('images.npy')\n",
        "traininglabels=np.load('classes.npy')\n",
        "trainingset.shape,traininglabels.shape"
      ],
      "execution_count": 0,
      "outputs": [
        {
          "output_type": "execute_result",
          "data": {
            "text/plain": [
              "((4750, 64, 64, 3), (4750,))"
            ]
          },
          "metadata": {
            "tags": []
          },
          "execution_count": 9
        }
      ]
    },
    {
      "cell_type": "markdown",
      "metadata": {
        "_uuid": "1ffbac53101299d45c4be2d84e25aa30c419972c",
        "id": "RylQmCnTtpAn",
        "colab_type": "text"
      },
      "source": [
        "**(3). Cleaning the images and removing the background:**\n",
        "* Cleaning of the images is an intensive task. We will have to:\n",
        "    * Convert the RGB image into HSV.\n",
        "    * We will have to blur the image to remove noise.\n",
        "    * We will have to create a mask to remove the background."
      ]
    },
    {
      "cell_type": "code",
      "metadata": {
        "_uuid": "0969b7bdfa3614e5e7527325f63472464ca27560",
        "id": "fkLVS8UEtpAp",
        "colab_type": "code",
        "outputId": "7ea651fd-68db-4ace-f6a9-a66e5b4625d3",
        "colab": {
          "base_uri": "https://localhost:8080/",
          "height": 494
        }
      },
      "source": [
        "new_train = []\n",
        "sets = []\n",
        "getEx = True\n",
        "for i in trainingset:\n",
        "    blurr = cv2.GaussianBlur(i,(5,5),0)\n",
        "    hsv = cv2.cvtColor(blurr,cv2.COLOR_BGR2HSV)\n",
        "    #GREEN PARAMETERS\n",
        "    lower = (25,40,50)\n",
        "    upper = (75,255,255)\n",
        "    mask = cv2.inRange(hsv,lower,upper)\n",
        "    struc = cv2.getStructuringElement(cv2.MORPH_ELLIPSE,(20,20))\n",
        "    mask = cv2.morphologyEx(mask,cv2.MORPH_CLOSE,struc)\n",
        "    boolean = mask>0\n",
        "    new = np.zeros_like(i,np.uint8)\n",
        "    new[boolean] = i[boolean]\n",
        "    new_train.append(new)\n",
        "    \n",
        "    if getEx:\n",
        "        plt.subplot(2,3,1);plt.imshow(i) # ORIGINAL\n",
        "        plt.subplot(2,3,2);plt.imshow(blurr) # BLURRED\n",
        "        plt.subplot(2,3,3);plt.imshow(hsv) # HSV CONVERTED\n",
        "        plt.subplot(2,3,4);plt.imshow(mask) # MASKED\n",
        "        plt.subplot(2,3,5);plt.imshow(boolean) # BOOLEAN MASKED\n",
        "        plt.subplot(2,3,6);plt.imshow(new) # NEW PROCESSED IMAGE\n",
        "        plt.show()\n",
        "        getEx = False\n",
        "new_train = np.asarray(new_train)\n",
        "\n",
        "# CLEANED IMAGES\n",
        "for i in range(8):\n",
        "    plt.subplot(2,4,i+1)\n",
        "    plt.imshow(new_train[i])"
      ],
      "execution_count": 0,
      "outputs": [
        {
          "output_type": "display_data",
          "data": {
            "image/png": "[encoded data removed]",
            "text/plain": [
              "<Figure size 432x288 with 6 Axes>"
            ]
          },
          "metadata": {
            "tags": []
          }
        },
        {
          "output_type": "display_data",
          "data": {
            "image/png": "[encoded data removed]",
            "text/plain": [
              "<Figure size 432x288 with 8 Axes>"
            ]
          },
          "metadata": {
            "tags": []
          }
        }
      ]
    },
    {
      "cell_type": "markdown",
      "metadata": {
        "_uuid": "12ce16ada1d5ea811b8395fffb00ab457723d28d",
        "collapsed": true,
        "id": "r3pqf-RAtpAt",
        "colab_type": "text"
      },
      "source": [
        "**(4). Converting the Labels into numbers:**\n",
        "* The labels are strings and these are hard to process. So we'll convert these labels into a binary classification.\n",
        "* The classification can be represented by an array of 12 numbers which will follow the condition:\n",
        "    * 0 if the species is not detected.\n",
        "    * 1 if the species is detected.\n",
        "* Example: If Blackgrass is detected, the array will be = [1,0,0,0,0,0,0,0,0,0,0,0]"
      ]
    },
    {
      "cell_type": "code",
      "metadata": {
        "_uuid": "6401705a939f2f542a49b87947f7a30c46d7b64c",
        "id": "nzWTjda0tpAv",
        "colab_type": "code",
        "outputId": "2e30fa82-0fa9-427f-8920-9bb3ec9b830f",
        "colab": {
          "base_uri": "https://localhost:8080/",
          "height": 35
        }
      },
      "source": [
        "from sklearn.preprocessing import LabelBinarizer\n",
        "enc = LabelBinarizer()\n",
        "classes = enc.fit_transform(traininglabels)\n",
        "classes.shape,new_train.shape"
      ],
      "execution_count": 0,
      "outputs": [
        {
          "output_type": "execute_result",
          "data": {
            "text/plain": [
              "((4750, 12), (4750, 64, 64, 3))"
            ]
          },
          "metadata": {
            "tags": []
          },
          "execution_count": 11
        }
      ]
    },
    {
      "cell_type": "markdown",
      "metadata": {
        "_uuid": "c4e446febf5983298485fd04ad7ffcc76d21dcd5",
        "id": "t-hevXmltpAz",
        "colab_type": "text"
      },
      "source": [
        "**(5). Defining our model and splitting the dataset:**\n",
        "* We need to split the training set for validation."
      ]
    },
    {
      "cell_type": "code",
      "metadata": {
        "_uuid": "8c3d89d8391f22ddf5d497295650a0b3ceaa3eb0",
        "id": "Z0766jmvtpA3",
        "colab_type": "code",
        "colab": {}
      },
      "source": [
        "\n",
        "x_train,x_test,y_train,y_test = train_test_split(new_train,classes,test_size=0.1,\n",
        "                                                 stratify=traininglabels)"
      ],
      "execution_count": 0,
      "outputs": []
    },
    {
      "cell_type": "markdown",
      "metadata": {
        "_uuid": "691dab3be3969e5c091a805fada90d272f23c2ba",
        "id": "xbn1xyRltpA8",
        "colab_type": "text"
      },
      "source": [
        "**(6). Preventing Overfitting:**\n",
        "* To prevent overfitting, we need to create a function that can randomly change image characterisitics during fitting."
      ]
    },
    {
      "cell_type": "code",
      "metadata": {
        "_uuid": "868d54609e0cdeacebbf455bf275556c8cbf1333",
        "id": "gWE4No1BtpA9",
        "colab_type": "code",
        "outputId": "18d59681-b7dd-4120-fce9-dbd80360d909",
        "colab": {
          "base_uri": "https://localhost:8080/",
          "height": 35
        }
      },
      "source": [
        "x_train.shape,y_train.shape,x_test.shape,y_test.shape"
      ],
      "execution_count": 0,
      "outputs": [
        {
          "output_type": "execute_result",
          "data": {
            "text/plain": [
              "((4275, 64, 64, 3), (4275, 12), (475, 64, 64, 3), (475, 12))"
            ]
          },
          "metadata": {
            "tags": []
          },
          "execution_count": 13
        }
      ]
    },
    {
      "cell_type": "markdown",
      "metadata": {
        "_uuid": "0792097cbb09cf07c89361b173ec7298445eb01c",
        "id": "F9GcJ6AxtpBC",
        "colab_type": "text"
      },
      "source": [
        "**(7). Defining the Convolutional Neural Network:**\n",
        "* This model has 4 convolution layers.\n",
        "* This model has 3 fully connected layers."
      ]
    },
    {
      "cell_type": "code",
      "metadata": {
        "_uuid": "2c7a676c92eefbbc00d336bed3e84abc25d69d5f",
        "scrolled": true,
        "id": "gZDsZ8NVtpBD",
        "colab_type": "code",
        "outputId": "65d76074-3f2e-43b3-85bd-7706fcecfa24",
        "colab": {
          "base_uri": "https://localhost:8080/",
          "height": 1000
        }
      },
      "source": [
        "\n",
        "\n",
        "model = Sequential()\n",
        "\n",
        "model.add(Conv2D(filters=32,kernel_size=3,padding='same',activation='relu',input_shape =([64,64,3])))\n",
        "model.add(BatchNormalization(axis=3))\n",
        "model.add(Conv2D(filters=64, kernel_size= 5, activation='relu'))\n",
        "model.add(MaxPooling2D((2, 2)))\n",
        "model.add(BatchNormalization(axis=3))\n",
        "model.add(Dropout(0.1))\n",
        "\n",
        "model.add(Conv2D(filters=128, kernel_size=5, activation='relu'))\n",
        "model.add(BatchNormalization(axis=3))\n",
        "model.add(Conv2D(filters=128, kernel_size=5, activation='relu'))\n",
        "model.add(MaxPooling2D((2, 2)))\n",
        "model.add(BatchNormalization(axis=3))\n",
        "model.add(Dropout(0.1))\n",
        "\n",
        "model.add(Conv2D(filters=256, kernel_size= 5, activation='relu'))\n",
        "model.add(BatchNormalization(axis=3))\n",
        "model.add(Conv2D(filters=256, kernel_size= 5, activation='relu'))\n",
        "model.add(MaxPooling2D((2, 2)))\n",
        "model.add(BatchNormalization(axis=3))\n",
        "model.add(Dropout(0.1))\n",
        "\n",
        "model.add(Flatten())\n",
        "\n",
        "model.add(Dense(256, activation='relu'))\n",
        "model.add(BatchNormalization())\n",
        "model.add(Dropout(0.5))\n",
        "\n",
        "model.add(Dense(256, activation='relu'))\n",
        "model.add(BatchNormalization())\n",
        "model.add(Dropout(0.5))\n",
        "\n",
        "model.add(Dense(12, activation='softmax'))\n",
        "\n",
        "model.compile(loss='categorical_crossentropy', optimizer='adam', metrics=['accuracy'])\n",
        "\n",
        "model.summary()\n",
        "\n"
      ],
      "execution_count": 0,
      "outputs": [
        {
          "output_type": "stream",
          "text": [
            "WARNING:tensorflow:From /usr/local/lib/python3.6/dist-packages/tensorflow_core/python/ops/resource_variable_ops.py:1630: calling BaseResourceVariable.__init__ (from tensorflow.python.ops.resource_variable_ops) with constraint is deprecated and will be removed in a future version.\n",
            "Instructions for updating:\n",
            "If using Keras pass *_constraint arguments to layers.\n",
            "Model: \"sequential\"\n",
            "_________________________________________________________________\n",
            "Layer (type)                 Output Shape              Param #   \n",
            "=================================================================\n",
            "conv2d (Conv2D)              (None, 64, 64, 32)        896       \n",
            "_________________________________________________________________\n",
            "batch_normalization (BatchNo (None, 64, 64, 32)        128       \n",
            "_________________________________________________________________\n",
            "conv2d_1 (Conv2D)            (None, 60, 60, 64)        51264     \n",
            "_________________________________________________________________\n",
            "max_pooling2d (MaxPooling2D) (None, 30, 30, 64)        0         \n",
            "_________________________________________________________________\n",
            "batch_normalization_1 (Batch (None, 30, 30, 64)        256       \n",
            "_________________________________________________________________\n",
            "dropout (Dropout)            (None, 30, 30, 64)        0         \n",
            "_________________________________________________________________\n",
            "conv2d_2 (Conv2D)            (None, 26, 26, 128)       204928    \n",
            "_________________________________________________________________\n",
            "batch_normalization_2 (Batch (None, 26, 26, 128)       512       \n",
            "_________________________________________________________________\n",
            "conv2d_3 (Conv2D)            (None, 22, 22, 128)       409728    \n",
            "_________________________________________________________________\n",
            "max_pooling2d_1 (MaxPooling2 (None, 11, 11, 128)       0         \n",
            "_________________________________________________________________\n",
            "batch_normalization_3 (Batch (None, 11, 11, 128)       512       \n",
            "_________________________________________________________________\n",
            "dropout_1 (Dropout)          (None, 11, 11, 128)       0         \n",
            "_________________________________________________________________\n",
            "conv2d_4 (Conv2D)            (None, 7, 7, 256)         819456    \n",
            "_________________________________________________________________\n",
            "batch_normalization_4 (Batch (None, 7, 7, 256)         1024      \n",
            "_________________________________________________________________\n",
            "conv2d_5 (Conv2D)            (None, 3, 3, 256)         1638656   \n",
            "_________________________________________________________________\n",
            "max_pooling2d_2 (MaxPooling2 (None, 1, 1, 256)         0         \n",
            "_________________________________________________________________\n",
            "batch_normalization_5 (Batch (None, 1, 1, 256)         1024      \n",
            "_________________________________________________________________\n",
            "dropout_2 (Dropout)          (None, 1, 1, 256)         0         \n",
            "_________________________________________________________________\n",
            "flatten (Flatten)            (None, 256)               0         \n",
            "_________________________________________________________________\n",
            "dense (Dense)                (None, 256)               65792     \n",
            "_________________________________________________________________\n",
            "batch_normalization_6 (Batch (None, 256)               1024      \n",
            "_________________________________________________________________\n",
            "dropout_3 (Dropout)          (None, 256)               0         \n",
            "_________________________________________________________________\n",
            "dense_1 (Dense)              (None, 256)               65792     \n",
            "_________________________________________________________________\n",
            "batch_normalization_7 (Batch (None, 256)               1024      \n",
            "_________________________________________________________________\n",
            "dropout_4 (Dropout)          (None, 256)               0         \n",
            "_________________________________________________________________\n",
            "dense_2 (Dense)              (None, 12)                3084      \n",
            "=================================================================\n",
            "Total params: 3,265,100\n",
            "Trainable params: 3,262,348\n",
            "Non-trainable params: 2,752\n",
            "_________________________________________________________________\n"
          ],
          "name": "stdout"
        }
      ]
    },
    {
      "cell_type": "markdown",
      "metadata": {
        "_uuid": "e2e7336a52c32bb79646bef1c19cb7a945df54f4",
        "id": "ZX21ImHVtpBH",
        "colab_type": "text"
      },
      "source": [
        "**(8). Fitting the CNN onto the data:**\n",
        "* We have to set a few callbacks:\n",
        "    * We have to reduce the learning rate because, convergence will be much quicker.\n",
        "    * We have to save the best weights of the model.\n",
        "    * We have to save the last weights of the model.    "
      ]
    },
    {
      "cell_type": "code",
      "metadata": {
        "_uuid": "422cfb2de5c17a9c4a62bba978394e513556e38e",
        "id": "s5_9hsabtpBI",
        "colab_type": "code",
        "outputId": "4b847050-c265-4c26-fe06-bea08b3332f3",
        "colab": {
          "base_uri": "https://localhost:8080/",
          "height": 1000
        }
      },
      "source": [
        "from tensorflow.keras.callbacks import ModelCheckpoint\n",
        "path_model='plantxxx.h5'\n",
        "\n",
        "checkpoint = ModelCheckpoint(\"plantxxx.h5\", monitor='val_acc', verbose=1, save_best_only=True, mode='max')\n",
        "callbacks_list = [checkpoint]\n",
        "\n",
        "#MODEL\n",
        "hist = model.fit(x_train,y_train, \n",
        "                            epochs=100, validation_data=(x_test,y_test), \n",
        "                           batch_size=128,callbacks=[\n",
        "    ModelCheckpoint(filepath=path_model)\n",
        "            ])\n",
        "\n",
        "\n",
        "\n",
        "# print(model.evaluate(x_train, y_train))  # Evaluate on train set\n",
        "# print(model.evaluate(x_test, y_test))  # Evaluate on test set"
      ],
      "execution_count": 0,
      "outputs": [
        {
          "output_type": "stream",
          "text": [
            "Train on 4275 samples, validate on 475 samples\n",
            "Epoch 1/100\n",
            "4275/4275 [==============================] - 9s 2ms/sample - loss: 3.0010 - acc: 0.1963 - val_loss: 47.2013 - val_acc: 0.1095\n",
            "Epoch 2/100\n",
            "4275/4275 [==============================] - 2s 492us/sample - loss: 2.2952 - acc: 0.3160 - val_loss: 12.8631 - val_acc: 0.1284\n",
            "Epoch 3/100\n",
            "4275/4275 [==============================] - 2s 490us/sample - loss: 1.9413 - acc: 0.3843 - val_loss: 3.1143 - val_acc: 0.2863\n",
            "Epoch 4/100\n",
            "4275/4275 [==============================] - 2s 489us/sample - loss: 1.7146 - acc: 0.4379 - val_loss: 4.2839 - val_acc: 0.2000\n",
            "Epoch 5/100\n",
            "4275/4275 [==============================] - 2s 490us/sample - loss: 1.5171 - acc: 0.4910 - val_loss: 2.5317 - val_acc: 0.3705\n",
            "Epoch 6/100\n",
            "4275/4275 [==============================] - 2s 495us/sample - loss: 1.3282 - acc: 0.5312 - val_loss: 1.5420 - val_acc: 0.5579\n",
            "Epoch 7/100\n",
            "4275/4275 [==============================] - 2s 531us/sample - loss: 1.2320 - acc: 0.5644 - val_loss: 1.3129 - val_acc: 0.5200\n",
            "Epoch 8/100\n",
            "4275/4275 [==============================] - 2s 489us/sample - loss: 1.1561 - acc: 0.5834 - val_loss: 1.3681 - val_acc: 0.5663\n",
            "Epoch 9/100\n",
            "4275/4275 [==============================] - 2s 490us/sample - loss: 1.0680 - acc: 0.6117 - val_loss: 1.6079 - val_acc: 0.4632\n",
            "Epoch 10/100\n",
            "4275/4275 [==============================] - 2s 493us/sample - loss: 1.0259 - acc: 0.6152 - val_loss: 1.2144 - val_acc: 0.6021\n",
            "Epoch 11/100\n",
            "4275/4275 [==============================] - 2s 499us/sample - loss: 0.9608 - acc: 0.6292 - val_loss: 1.3347 - val_acc: 0.5411\n",
            "Epoch 12/100\n",
            "4275/4275 [==============================] - 2s 494us/sample - loss: 0.9295 - acc: 0.6377 - val_loss: 1.0023 - val_acc: 0.6463\n",
            "Epoch 13/100\n",
            "4275/4275 [==============================] - 2s 486us/sample - loss: 0.8855 - acc: 0.6559 - val_loss: 1.1346 - val_acc: 0.5958\n",
            "Epoch 14/100\n",
            "4275/4275 [==============================] - 2s 498us/sample - loss: 0.8272 - acc: 0.6704 - val_loss: 1.1589 - val_acc: 0.6147\n",
            "Epoch 15/100\n",
            "4275/4275 [==============================] - 2s 507us/sample - loss: 0.8266 - acc: 0.6671 - val_loss: 0.9684 - val_acc: 0.6632\n",
            "Epoch 16/100\n",
            "4275/4275 [==============================] - 2s 486us/sample - loss: 0.7979 - acc: 0.6868 - val_loss: 0.9471 - val_acc: 0.6632\n",
            "Epoch 17/100\n",
            "4275/4275 [==============================] - 2s 502us/sample - loss: 0.7770 - acc: 0.6868 - val_loss: 0.8673 - val_acc: 0.6716\n",
            "Epoch 18/100\n",
            "4275/4275 [==============================] - 2s 492us/sample - loss: 0.7793 - acc: 0.6830 - val_loss: 1.0320 - val_acc: 0.6442\n",
            "Epoch 19/100\n",
            "4275/4275 [==============================] - 2s 494us/sample - loss: 0.7222 - acc: 0.7130 - val_loss: 0.9550 - val_acc: 0.6568\n",
            "Epoch 20/100\n",
            "4275/4275 [==============================] - 2s 490us/sample - loss: 0.7205 - acc: 0.7036 - val_loss: 1.1257 - val_acc: 0.6000\n",
            "Epoch 21/100\n",
            "4275/4275 [==============================] - 2s 522us/sample - loss: 0.7139 - acc: 0.7085 - val_loss: 1.3155 - val_acc: 0.6253\n",
            "Epoch 22/100\n",
            "4275/4275 [==============================] - 2s 485us/sample - loss: 0.6958 - acc: 0.7179 - val_loss: 0.9836 - val_acc: 0.6400\n",
            "Epoch 23/100\n",
            "4275/4275 [==============================] - 2s 491us/sample - loss: 0.6620 - acc: 0.7310 - val_loss: 1.0174 - val_acc: 0.6463\n",
            "Epoch 24/100\n",
            "4275/4275 [==============================] - 2s 496us/sample - loss: 0.6273 - acc: 0.7418 - val_loss: 0.9657 - val_acc: 0.6337\n",
            "Epoch 25/100\n",
            "4275/4275 [==============================] - 2s 493us/sample - loss: 0.5972 - acc: 0.7565 - val_loss: 1.1235 - val_acc: 0.6147\n",
            "Epoch 26/100\n",
            "4275/4275 [==============================] - 2s 495us/sample - loss: 0.5986 - acc: 0.7509 - val_loss: 1.3184 - val_acc: 0.5874\n",
            "Epoch 27/100\n",
            "4275/4275 [==============================] - 2s 500us/sample - loss: 0.5722 - acc: 0.7668 - val_loss: 1.0246 - val_acc: 0.6505\n",
            "Epoch 28/100\n",
            "4275/4275 [==============================] - 2s 486us/sample - loss: 0.5444 - acc: 0.7752 - val_loss: 1.2498 - val_acc: 0.5895\n",
            "Epoch 29/100\n",
            "4275/4275 [==============================] - 2s 496us/sample - loss: 0.5326 - acc: 0.7841 - val_loss: 1.2410 - val_acc: 0.6126\n",
            "Epoch 30/100\n",
            "4275/4275 [==============================] - 2s 490us/sample - loss: 0.4988 - acc: 0.7993 - val_loss: 0.9777 - val_acc: 0.6716\n",
            "Epoch 31/100\n",
            "4275/4275 [==============================] - 2s 495us/sample - loss: 0.5189 - acc: 0.7885 - val_loss: 1.1260 - val_acc: 0.6337\n",
            "Epoch 32/100\n",
            "4275/4275 [==============================] - 2s 494us/sample - loss: 0.4707 - acc: 0.8082 - val_loss: 1.0783 - val_acc: 0.6316\n",
            "Epoch 33/100\n",
            "4275/4275 [==============================] - 2s 488us/sample - loss: 0.4151 - acc: 0.8391 - val_loss: 1.1451 - val_acc: 0.6463\n",
            "Epoch 34/100\n",
            "4275/4275 [==============================] - 2s 491us/sample - loss: 0.4153 - acc: 0.8393 - val_loss: 1.2223 - val_acc: 0.6105\n",
            "Epoch 35/100\n",
            "4275/4275 [==============================] - 2s 538us/sample - loss: 0.4169 - acc: 0.8393 - val_loss: 1.3288 - val_acc: 0.5895\n",
            "Epoch 36/100\n",
            "4275/4275 [==============================] - 2s 490us/sample - loss: 0.4378 - acc: 0.8351 - val_loss: 1.1454 - val_acc: 0.6358\n",
            "Epoch 37/100\n",
            "4275/4275 [==============================] - 2s 491us/sample - loss: 0.3641 - acc: 0.8585 - val_loss: 1.1900 - val_acc: 0.6463\n",
            "Epoch 38/100\n",
            "4275/4275 [==============================] - 2s 497us/sample - loss: 0.3675 - acc: 0.8606 - val_loss: 1.3597 - val_acc: 0.6189\n",
            "Epoch 39/100\n",
            "4275/4275 [==============================] - 2s 493us/sample - loss: 0.3145 - acc: 0.8805 - val_loss: 1.4150 - val_acc: 0.6358\n",
            "Epoch 40/100\n",
            "4275/4275 [==============================] - 2s 485us/sample - loss: 0.2870 - acc: 0.8959 - val_loss: 1.4474 - val_acc: 0.6042\n",
            "Epoch 41/100\n",
            "4275/4275 [==============================] - 2s 492us/sample - loss: 0.2919 - acc: 0.8980 - val_loss: 1.4414 - val_acc: 0.6189\n",
            "Epoch 42/100\n",
            "4275/4275 [==============================] - 2s 495us/sample - loss: 0.2434 - acc: 0.9092 - val_loss: 1.4319 - val_acc: 0.6337\n",
            "Epoch 43/100\n",
            "4275/4275 [==============================] - 2s 490us/sample - loss: 0.2225 - acc: 0.9193 - val_loss: 1.3977 - val_acc: 0.6168\n",
            "Epoch 44/100\n",
            "4275/4275 [==============================] - 2s 495us/sample - loss: 0.2005 - acc: 0.9270 - val_loss: 1.5582 - val_acc: 0.6063\n",
            "Epoch 45/100\n",
            "4275/4275 [==============================] - 2s 491us/sample - loss: 0.1952 - acc: 0.9312 - val_loss: 1.4792 - val_acc: 0.6147\n",
            "Epoch 46/100\n",
            "4275/4275 [==============================] - 2s 496us/sample - loss: 0.1763 - acc: 0.9399 - val_loss: 1.6085 - val_acc: 0.6105\n",
            "Epoch 47/100\n",
            "4275/4275 [==============================] - 2s 495us/sample - loss: 0.1686 - acc: 0.9429 - val_loss: 1.7633 - val_acc: 0.5747\n",
            "Epoch 48/100\n",
            "4275/4275 [==============================] - 2s 492us/sample - loss: 0.1700 - acc: 0.9422 - val_loss: 1.6689 - val_acc: 0.6211\n",
            "Epoch 49/100\n",
            "4275/4275 [==============================] - 2s 499us/sample - loss: 0.1699 - acc: 0.9432 - val_loss: 1.5776 - val_acc: 0.6379\n",
            "Epoch 50/100\n",
            "4275/4275 [==============================] - 2s 488us/sample - loss: 0.1406 - acc: 0.9525 - val_loss: 1.7688 - val_acc: 0.6105\n",
            "Epoch 51/100\n",
            "4275/4275 [==============================] - 2s 498us/sample - loss: 0.1446 - acc: 0.9495 - val_loss: 1.6928 - val_acc: 0.6084\n",
            "Epoch 52/100\n",
            "4275/4275 [==============================] - 2s 486us/sample - loss: 0.1226 - acc: 0.9605 - val_loss: 1.9074 - val_acc: 0.5937\n",
            "Epoch 53/100\n",
            "4275/4275 [==============================] - 2s 490us/sample - loss: 0.1280 - acc: 0.9570 - val_loss: 1.7389 - val_acc: 0.5663\n",
            "Epoch 54/100\n",
            "4275/4275 [==============================] - 2s 494us/sample - loss: 0.1093 - acc: 0.9637 - val_loss: 1.8381 - val_acc: 0.6000\n",
            "Epoch 55/100\n",
            "4275/4275 [==============================] - 2s 496us/sample - loss: 0.1266 - acc: 0.9602 - val_loss: 1.8892 - val_acc: 0.6000\n",
            "Epoch 56/100\n",
            "4275/4275 [==============================] - 2s 489us/sample - loss: 0.1056 - acc: 0.9628 - val_loss: 1.8706 - val_acc: 0.6442\n",
            "Epoch 57/100\n",
            "4275/4275 [==============================] - 2s 495us/sample - loss: 0.0920 - acc: 0.9701 - val_loss: 1.9198 - val_acc: 0.6063\n",
            "Epoch 58/100\n",
            "4275/4275 [==============================] - 2s 498us/sample - loss: 0.0961 - acc: 0.9691 - val_loss: 1.9132 - val_acc: 0.6295\n",
            "Epoch 59/100\n",
            "4275/4275 [==============================] - 2s 492us/sample - loss: 0.0854 - acc: 0.9708 - val_loss: 1.9961 - val_acc: 0.5916\n",
            "Epoch 60/100\n",
            "4275/4275 [==============================] - 2s 496us/sample - loss: 0.0999 - acc: 0.9682 - val_loss: 1.9017 - val_acc: 0.6147\n",
            "Epoch 61/100\n",
            "4275/4275 [==============================] - 2s 494us/sample - loss: 0.0800 - acc: 0.9736 - val_loss: 1.9274 - val_acc: 0.5937\n",
            "Epoch 62/100\n",
            "4275/4275 [==============================] - 2s 496us/sample - loss: 0.0763 - acc: 0.9750 - val_loss: 2.0211 - val_acc: 0.5853\n",
            "Epoch 63/100\n",
            "4275/4275 [==============================] - 2s 529us/sample - loss: 0.0663 - acc: 0.9775 - val_loss: 1.9508 - val_acc: 0.6358\n",
            "Epoch 64/100\n",
            "4275/4275 [==============================] - 2s 500us/sample - loss: 0.0600 - acc: 0.9834 - val_loss: 1.8403 - val_acc: 0.6211\n",
            "Epoch 65/100\n",
            "4275/4275 [==============================] - 2s 506us/sample - loss: 0.0449 - acc: 0.9834 - val_loss: 1.8444 - val_acc: 0.6147\n",
            "Epoch 66/100\n",
            "4275/4275 [==============================] - 2s 504us/sample - loss: 0.0424 - acc: 0.9867 - val_loss: 1.9943 - val_acc: 0.5916\n",
            "Epoch 67/100\n",
            "4275/4275 [==============================] - 2s 506us/sample - loss: 0.0421 - acc: 0.9871 - val_loss: 1.9227 - val_acc: 0.6063\n",
            "Epoch 68/100\n",
            "4275/4275 [==============================] - 2s 495us/sample - loss: 0.0584 - acc: 0.9811 - val_loss: 2.3318 - val_acc: 0.5747\n",
            "Epoch 69/100\n",
            "4275/4275 [==============================] - 2s 493us/sample - loss: 0.0497 - acc: 0.9843 - val_loss: 1.9966 - val_acc: 0.6295\n",
            "Epoch 70/100\n",
            "4275/4275 [==============================] - 2s 494us/sample - loss: 0.0551 - acc: 0.9832 - val_loss: 2.1265 - val_acc: 0.5958\n",
            "Epoch 71/100\n",
            "4275/4275 [==============================] - 2s 490us/sample - loss: 0.0781 - acc: 0.9747 - val_loss: 2.1932 - val_acc: 0.6084\n",
            "Epoch 72/100\n",
            "4275/4275 [==============================] - 2s 494us/sample - loss: 0.1330 - acc: 0.9588 - val_loss: 2.4028 - val_acc: 0.5811\n",
            "Epoch 73/100\n",
            "4275/4275 [==============================] - 2s 493us/sample - loss: 0.1132 - acc: 0.9609 - val_loss: 2.2801 - val_acc: 0.6021\n",
            "Epoch 74/100\n",
            "4275/4275 [==============================] - 2s 495us/sample - loss: 0.1320 - acc: 0.9579 - val_loss: 2.1493 - val_acc: 0.5811\n",
            "Epoch 75/100\n",
            "4275/4275 [==============================] - 2s 493us/sample - loss: 0.1086 - acc: 0.9661 - val_loss: 2.2179 - val_acc: 0.5747\n",
            "Epoch 76/100\n",
            "4275/4275 [==============================] - 2s 497us/sample - loss: 0.0821 - acc: 0.9743 - val_loss: 2.0947 - val_acc: 0.5726\n",
            "Epoch 77/100\n",
            "4275/4275 [==============================] - 2s 532us/sample - loss: 0.0893 - acc: 0.9712 - val_loss: 2.7960 - val_acc: 0.5411\n",
            "Epoch 78/100\n",
            "4275/4275 [==============================] - 2s 492us/sample - loss: 0.0900 - acc: 0.9673 - val_loss: 2.3962 - val_acc: 0.5726\n",
            "Epoch 79/100\n",
            "4275/4275 [==============================] - 2s 494us/sample - loss: 0.0707 - acc: 0.9771 - val_loss: 2.2876 - val_acc: 0.5747\n",
            "Epoch 80/100\n",
            "4275/4275 [==============================] - 2s 495us/sample - loss: 0.0441 - acc: 0.9860 - val_loss: 2.0269 - val_acc: 0.6337\n",
            "Epoch 81/100\n",
            "4275/4275 [==============================] - 2s 493us/sample - loss: 0.0426 - acc: 0.9869 - val_loss: 2.2247 - val_acc: 0.5811\n",
            "Epoch 82/100\n",
            "4275/4275 [==============================] - 2s 486us/sample - loss: 0.0429 - acc: 0.9883 - val_loss: 2.0303 - val_acc: 0.6042\n",
            "Epoch 83/100\n",
            "4275/4275 [==============================] - 2s 493us/sample - loss: 0.0438 - acc: 0.9871 - val_loss: 2.1672 - val_acc: 0.5958\n",
            "Epoch 84/100\n",
            "4275/4275 [==============================] - 2s 493us/sample - loss: 0.0339 - acc: 0.9902 - val_loss: 2.2303 - val_acc: 0.6000\n",
            "Epoch 85/100\n",
            "4275/4275 [==============================] - 2s 490us/sample - loss: 0.0315 - acc: 0.9895 - val_loss: 2.1023 - val_acc: 0.6126\n",
            "Epoch 86/100\n",
            "4275/4275 [==============================] - 2s 495us/sample - loss: 0.0239 - acc: 0.9942 - val_loss: 2.1220 - val_acc: 0.6063\n",
            "Epoch 87/100\n",
            "4275/4275 [==============================] - 2s 489us/sample - loss: 0.0294 - acc: 0.9920 - val_loss: 1.9217 - val_acc: 0.6337\n",
            "Epoch 88/100\n",
            "4275/4275 [==============================] - 2s 491us/sample - loss: 0.0354 - acc: 0.9895 - val_loss: 2.2548 - val_acc: 0.6168\n",
            "Epoch 89/100\n",
            "4275/4275 [==============================] - 2s 486us/sample - loss: 0.0558 - acc: 0.9850 - val_loss: 2.1426 - val_acc: 0.6168\n",
            "Epoch 90/100\n",
            "4275/4275 [==============================] - 2s 492us/sample - loss: 0.0494 - acc: 0.9855 - val_loss: 2.4178 - val_acc: 0.6042\n",
            "Epoch 91/100\n",
            "4275/4275 [==============================] - 2s 490us/sample - loss: 0.0497 - acc: 0.9860 - val_loss: 2.8248 - val_acc: 0.5347\n",
            "Epoch 92/100\n",
            "4275/4275 [==============================] - 2s 534us/sample - loss: 0.0657 - acc: 0.9808 - val_loss: 2.3269 - val_acc: 0.6000\n",
            "Epoch 93/100\n",
            "4275/4275 [==============================] - 2s 488us/sample - loss: 0.0508 - acc: 0.9825 - val_loss: 2.3997 - val_acc: 0.5684\n",
            "Epoch 94/100\n",
            "4275/4275 [==============================] - 2s 495us/sample - loss: 0.0551 - acc: 0.9841 - val_loss: 3.0407 - val_acc: 0.4716\n",
            "Epoch 95/100\n",
            "4275/4275 [==============================] - 2s 495us/sample - loss: 0.0438 - acc: 0.9867 - val_loss: 2.0253 - val_acc: 0.6274\n",
            "Epoch 96/100\n",
            "4275/4275 [==============================] - 2s 490us/sample - loss: 0.0372 - acc: 0.9883 - val_loss: 2.0555 - val_acc: 0.6084\n",
            "Epoch 97/100\n",
            "4275/4275 [==============================] - 2s 497us/sample - loss: 0.0348 - acc: 0.9897 - val_loss: 2.3106 - val_acc: 0.6084\n",
            "Epoch 98/100\n",
            "4275/4275 [==============================] - 2s 483us/sample - loss: 0.0379 - acc: 0.9883 - val_loss: 2.6196 - val_acc: 0.5579\n",
            "Epoch 99/100\n",
            "4275/4275 [==============================] - 2s 495us/sample - loss: 0.0498 - acc: 0.9841 - val_loss: 2.4616 - val_acc: 0.5600\n",
            "Epoch 100/100\n",
            "4275/4275 [==============================] - 2s 499us/sample - loss: 0.0515 - acc: 0.9843 - val_loss: 2.3673 - val_acc: 0.6063\n"
          ],
          "name": "stdout"
        }
      ]
    },
    {
      "cell_type": "code",
      "metadata": {
        "id": "FWRk8fr4HLj4",
        "colab_type": "code",
        "outputId": "6fb907f3-ac3d-463b-9189-0488d785164a",
        "colab": {
          "base_uri": "https://localhost:8080/",
          "height": 88
        }
      },
      "source": [
        "print(model.evaluate(x_train, y_train))  # Evaluate on train set\n",
        "print(model.evaluate(x_test, y_test))  # Evaluate on test set"
      ],
      "execution_count": 0,
      "outputs": [
        {
          "output_type": "stream",
          "text": [
            "4275/4275 [==============================] - 1s 255us/sample - loss: 0.0602 - acc: 0.9815\n",
            "[0.060234311526608575, 0.9815205]\n",
            "475/475 [==============================] - 0s 236us/sample - loss: 2.3672 - acc: 0.6063\n",
            "[2.367249644931994, 0.6063158]\n"
          ],
          "name": "stdout"
        }
      ]
    },
    {
      "cell_type": "markdown",
      "metadata": {
        "_uuid": "31f56b000ddbfab011358dbaf01ea90c4ef53ef1",
        "collapsed": true,
        "id": "Uio4jt8JtpBM",
        "colab_type": "text"
      },
      "source": [
        "**(9). Confusion Matrix:**\n",
        "* The confusion matrix is one of the best ways to analyse the errors in the model.\n",
        "* It gives the exact number of correct and incorrect predictions"
      ]
    },
    {
      "cell_type": "code",
      "metadata": {
        "id": "Fd_iVaisH8ws",
        "colab_type": "code",
        "colab": {}
      },
      "source": [
        "# loading the model \n",
        "from tensorflow.keras.models import load_model\n",
        "models = load_model('/content/gdrive/My Drive/plant seeding/plantxxx.h5')"
      ],
      "execution_count": 0,
      "outputs": []
    },
    {
      "cell_type": "code",
      "metadata": {
        "id": "5FFwfKZSPvfC",
        "colab_type": "code",
        "outputId": "46fe1d58-8ab5-4b7f-bfcb-af814e38d9c5",
        "colab": {
          "base_uri": "https://localhost:8080/",
          "height": 35
        }
      },
      "source": [
        "# creating the list of names of species\n",
        "names_list = ['Common Chickweed','Fat Hen','Loose Silky-bent','Small-flowered Cranesbill','Shepherds Purse', 'Maize','Sugar beet','Common wheat','Cleavers','Black-grass',\n",
        "'Charlock','Scentless Mayweed']\n",
        "names_list = sorted(gag)# since it was sorted while data is taken\n"
      ],
      "execution_count": 0,
      "outputs": [
        {
          "output_type": "execute_result",
          "data": {
            "text/plain": [
              "'Black-grass'"
            ]
          },
          "metadata": {
            "tags": []
          },
          "execution_count": 15
        }
      ]
    },
    {
      "cell_type": "code",
      "metadata": {
        "id": "Xydz3eDKI6vN",
        "colab_type": "code",
        "outputId": "a9d9adf8-bdbc-4427-99fb-bd843b1498f4",
        "colab": {
          "base_uri": "https://localhost:8080/",
          "height": 268
        }
      },
      "source": [
        "import cv2\n",
        "img=cv2.imread('/content/gdrive/My Drive/plant seeding/common.jpg')\n",
        "import matplotlib.pyplot as plt\n",
        "img=cv2.resize(img,(64,64))\n",
        "img = np.float32(img)/255.0\n",
        "plt.imshow(img)\n",
        "plt.show()"
      ],
      "execution_count": 0,
      "outputs": [
        {
          "output_type": "display_data",
          "data": {
            "image/png": "[encoded data removed]",
            "text/plain": [
              "<Figure size 432x288 with 1 Axes>"
            ]
          },
          "metadata": {
            "tags": []
          }
        }
      ]
    },
    {
      "cell_type": "code",
      "metadata": {
        "id": "Ns71PkAYKEPg",
        "colab_type": "code",
        "outputId": "ddc1e4d1-1804-4d81-ce6b-5246189ee7bb",
        "colab": {
          "base_uri": "https://localhost:8080/",
          "height": 35
        }
      },
      "source": [
        "img_shape=np.expand_dims(img,axis=0)\n",
        "img_shape=img_shape.reshape(-1,64,64,3)\n",
        "img_shape.shape\n",
        "result2 = models.predict(img_shape)\n",
        "pred_ix2=np.argmax(result2)\n",
        "\n",
        "\n",
        "names_list[pred_ix2]"
      ],
      "execution_count": 0,
      "outputs": [
        {
          "output_type": "execute_result",
          "data": {
            "text/plain": [
              "'Common wheat'"
            ]
          },
          "metadata": {
            "tags": []
          },
          "execution_count": 24
        }
      ]
    },
    {
      "cell_type": "code",
      "metadata": {
        "_uuid": "d0b8fcf76d74db88e24f68eef4fa946aa1b6ff98",
        "id": "lTLy11qTtpBO",
        "colab_type": "code",
        "outputId": "b21dec91-de43-47a2-c810-162544208a40",
        "colab": {
          "base_uri": "https://localhost:8080/",
          "height": 230
        }
      },
      "source": [
        "# PREDICTIONS\n",
        "y_pred = model.predict(x_test)\n",
        "y_class = np.argmax(y_pred, axis = 1) \n",
        "y_check = np.argmax(y_test, axis = 1) \n",
        "\n",
        "cmatrix = confusion_matrix(y_check, y_class)\n",
        "print(cmatrix)"
      ],
      "execution_count": 0,
      "outputs": [
        {
          "output_type": "stream",
          "text": [
            "[[16  1  4  1  0  0  0  0  4  0  0  0]\n",
            " [ 1 22  0  4  0 12  0  0  0  0  0  0]\n",
            " [ 1  1 16  1  0  0  0  1  9  0  0  0]\n",
            " [ 0  3  1 36  3  3  0 10  1  0  1  3]\n",
            " [ 1  0  1  0  7  8  0  0  1  4  0  0]\n",
            " [ 0  7  0  0  3 31  0  0  1  4  0  1]\n",
            " [ 1  1  7  1  1  1 42  5  3  2  1  0]\n",
            " [ 0  0  0 12  0  0  5  4  0  0  1  0]\n",
            " [ 2  0 13  0  3  6  0  0 27  1  0  0]\n",
            " [ 0  0  0  0  6  6  0  0  0 10  1  0]\n",
            " [ 0  1  1  0  0  1  2  0  2  0 42  1]\n",
            " [ 0  0  1  1  1  0  0  0  1  0  0 35]]\n"
          ],
          "name": "stdout"
        }
      ]
    }
  ]
}